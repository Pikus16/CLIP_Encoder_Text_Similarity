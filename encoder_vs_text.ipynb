{
 "cells": [
  {
   "cell_type": "code",
   "execution_count": 1,
   "metadata": {},
   "outputs": [
    {
     "name": "stderr",
     "output_type": "stream",
     "text": [
      "/home/ubuntu/anaconda3/envs/content_understanding/lib/python3.8/site-packages/tqdm/auto.py:22: TqdmWarning: IProgress not found. Please update jupyter and ipywidgets. See https://ipywidgets.readthedocs.io/en/stable/user_install.html\n",
      "  from .autonotebook import tqdm as notebook_tqdm\n"
     ]
    }
   ],
   "source": [
    "import torchvision\n",
    "import clip\n",
    "import torch\n",
    "from PIL import Image\n",
    "import matplotlib.pyplot as plt\n",
    "from sklearn import neighbors\n",
    "from glob import glob\n",
    "import os\n",
    "from datasets import load_dataset\n",
    "from tqdm import tqdm\n",
    "from concurrent.futures import ThreadPoolExecutor\n",
    "from functools import partial\n",
    "import io\n",
    "import requests\n",
    "import urllib\n",
    "import numpy as np\n",
    "\n",
    "from datasets.utils.file_utils import get_datasets_user_agent"
   ]
  },
  {
   "cell_type": "code",
   "execution_count": 2,
   "metadata": {},
   "outputs": [],
   "source": [
    "USER_AGENT = get_datasets_user_agent()\n",
    "\n",
    "DOWNLOAD_DIR = '/home/ubuntu/data/conceptual_captions/labeled'\n",
    "\n",
    "def download_single_image(image_url, ind, download_dir=DOWNLOAD_DIR):\n",
    "        try:\n",
    "            filename = os.path.join(download_dir, f\"{ind}.jpg\")#os.path.basename(image_url))\n",
    "            if os.path.exists(filename):\n",
    "                return\n",
    "            img_data = requests.get(image_url).content\n",
    "            with open(filename, 'wb') as handler:\n",
    "                handler.write(img_data)\n",
    "        except Exception as e:\n",
    "            print(e)\n",
    "\n",
    "\n",
    "def fetch_images(batch, num_threads, timeout=None, retries=0):\n",
    "    fetch_single_image_with_args = partial(fetch_single_image, timeout=timeout, retries=retries)\n",
    "    with ThreadPoolExecutor(max_workers=num_threads) as executor:\n",
    "        batch[\"image\"] = list(executor.map(fetch_single_image_with_args, batch[\"image_url\"]))\n",
    "    return batch"
   ]
  },
  {
   "cell_type": "code",
   "execution_count": 3,
   "metadata": {},
   "outputs": [
    {
     "name": "stderr",
     "output_type": "stream",
     "text": [
      "Found cached dataset conceptual_captions (/home/ubuntu/.cache/huggingface/datasets/conceptual_captions/labeled/1.0.0/05266784888422e36944016874c44639bccb39069c2227435168ad8b02d600d8)\n",
      "100%|██████████| 1/1 [00:00<00:00,  7.27it/s]\n"
     ]
    }
   ],
   "source": [
    "dset_labeled = load_dataset(\"conceptual_captions\", name='labeled')"
   ]
  },
  {
   "cell_type": "code",
   "execution_count": 4,
   "metadata": {},
   "outputs": [],
   "source": [
    "num_to_download = 100000\n",
    "subset = dset_labeled['train'][:num_to_download]"
   ]
  },
  {
   "cell_type": "code",
   "execution_count": 7,
   "metadata": {},
   "outputs": [
    {
     "name": "stdout",
     "output_type": "stream",
     "text": [
      "HTTPConnectionPool(host='www.coolranchero.com', port=80): Max retries exceeded with url: /wp-content/uploads/red-oak-cut.jpg (Caused by NewConnectionError('<urllib3.connection.HTTPConnection object at 0x7f97aaf2f340>: Failed to establish a new connection: [Errno -2] Name or service not known'))\n",
      "HTTPConnectionPool(host='www.lornabj.co.uk', port=80): Max retries exceeded with url: /gallery/00068989.jpg (Caused by NewConnectionError('<urllib3.connection.HTTPConnection object at 0x7f97aae61880>: Failed to establish a new connection: [Errno -2] Name or service not known'))\n",
      "HTTPSConnectionPool(host='2qibqm39xjt6q46gf1rwo2g1-wpengine.netdna-ssl.com', port=443): Max retries exceeded with url: /wp-content/uploads/2017/10/8663117_web1_L1-JulcolKind-edh-171001.jpg (Caused by NewConnectionError('<urllib3.connection.HTTPSConnection object at 0x7f97aaf28d60>: Failed to establish a new connection: [Errno -2] Name or service not known'))\n",
      "HTTPSConnectionPool(host='sermonquotes-eszuskq0bptlfh8awbb.stackpathdns.com', port=443): Max retries exceeded with url: /wp-content/uploads/beans/images/One-road-a532542.jpg (Caused by NewConnectionError('<urllib3.connection.HTTPSConnection object at 0x7f97c8231820>: Failed to establish a new connection: [Errno -2] Name or service not known'))\n",
      "HTTPSConnectionPool(host='s.iha.com', port=443): Max retries exceeded with url: /4597900002466/bb-Muhlhausen-City-Apartments-Muhlhausen_2.jpeg (Caused by NewConnectionError('<urllib3.connection.HTTPSConnection object at 0x7f97c8052460>: Failed to establish a new connection: [Errno 111] Connection refused'))\n",
      "HTTPSConnectionPool(host='www.emporis.com', port=443): Max retries exceeded with url: /images/show/653805-Large-fullheightview-view-from-the-southwest.jpg (Caused by SSLError(SSLCertVerificationError(1, '[SSL: CERTIFICATE_VERIFY_FAILED] certificate verify failed: unable to get local issuer certificate (_ssl.c:1131)')))\n",
      "HTTPSConnectionPool(host='www.emporis.com', port=443): Max retries exceeded with url: /images/show/385029-Large-fullheightview-view-from-the-southwest-across-hamilton-street.jpg (Caused by SSLError(SSLCertVerificationError(1, '[SSL: CERTIFICATE_VERIFY_FAILED] certificate verify failed: unable to get local issuer certificate (_ssl.c:1131)')))\n",
      "HTTPSConnectionPool(host='media.winnipegfreepress.com', port=443): Max retries exceeded with url: /images/dds-pumpkin3-oct211.jpg (Caused by SSLError(SSLCertVerificationError(1, '[SSL: CERTIFICATE_VERIFY_FAILED] certificate verify failed: certificate has expired (_ssl.c:1131)')))\n",
      "HTTPSConnectionPool(host='d1lfury6i2wx5t.cloudfront.net', port=443): Max retries exceeded with url: /images/61b476477b0827e2a95233692db72a13.jpeg (Caused by NewConnectionError('<urllib3.connection.HTTPSConnection object at 0x7f97a8e3fe50>: Failed to establish a new connection: [Errno -5] No address associated with hostname'))\n",
      "HTTPSConnectionPool(host='media.fromthegrapevine.com', port=443): Max retries exceeded with url: /assets/images/2016/6/got-white-v-neck.jpg.824x0_q71.jpg (Caused by NewConnectionError('<urllib3.connection.HTTPSConnection object at 0x7f97a8e3fa60>: Failed to establish a new connection: [Errno -2] Name or service not known'))\n",
      "HTTPSConnectionPool(host='slideshow.starchefs.com', port=443): Max retries exceeded with url: /p.php?a=W0tNSFBJVFdFUzhdVGVtZ2d4b1g4OkNPQFkwMDMiKX9idS0iPTgiKDI7Mj8yNT4uOjo%2BOSc7LjI2JTQyPjc5Ij40Pz87&m=1317939421 (Caused by NewConnectionError('<urllib3.connection.HTTPSConnection object at 0x7f97a893c4c0>: Failed to establish a new connection: [Errno -2] Name or service not known'))\n",
      "HTTPSConnectionPool(host='drupal.dailygazette.com', port=443): Max retries exceeded with url: /sites/default/files/styles/article_image/public/media/img/photos/2015/09/06/UNIONfrosh989.jpg?itok=A3yjCtkk (Caused by NewConnectionError('<urllib3.connection.HTTPSConnection object at 0x7f97975c4430>: Failed to establish a new connection: [Errno -2] Name or service not known'))\n",
      "HTTPConnectionPool(host='www.celebzz.com', port=80): Max retries exceeded with url: /wp-content/uploads/2016/08/kate-upton-taking-her-dog-for-a-walk-in-los-angeles_6.jpg (Caused by NewConnectionError('<urllib3.connection.HTTPConnection object at 0x7f97aacfc5b0>: Failed to establish a new connection: [Errno -3] Temporary failure in name resolution'))\n",
      "HTTPConnectionPool(host='thearchobserver.com', port=80): Max retries exceeded with url: /wp-content/uploads/2013/06/IMG_2522.jpg (Caused by NewConnectionError('<urllib3.connection.HTTPConnection object at 0x7f97952cfd60>: Failed to establish a new connection: [Errno -2] Name or service not known'))\n",
      "HTTPConnectionPool(host='cdn.attackofthecute.com', port=80): Max retries exceeded with url: /October-30-2012-00-28-33-k.jpg (Caused by NewConnectionError('<urllib3.connection.HTTPConnection object at 0x7f97c808d1c0>: Failed to establish a new connection: [Errno 111] Connection refused'))\n",
      "Exceeded 30 redirects.\n",
      "HTTPConnectionPool(host='cdn3.theinertia.com', port=80): Max retries exceeded with url: /wp-content/gallery/graham-hunt/photo2.jpg (Caused by NewConnectionError('<urllib3.connection.HTTPConnection object at 0x7f97c80c13d0>: Failed to establish a new connection: [Errno -2] Name or service not known'))\n",
      "HTTPSConnectionPool(host='img.perfume.com', port=443): Max retries exceeded with url: /images/products/sku/large/THOL33.jpg (Caused by SSLError(SSLCertVerificationError(1, '[SSL: CERTIFICATE_VERIFY_FAILED] certificate verify failed: unable to get local issuer certificate (_ssl.c:1131)')))\n",
      "HTTPSConnectionPool(host='s.iha.com', port=443): Max retries exceeded with url: /2711900001074/bb-Anduze-Ferme-de-cabanis_1.jpeg (Caused by NewConnectionError('<urllib3.connection.HTTPSConnection object at 0x7f97c80c1520>: Failed to establish a new connection: [Errno 111] Connection refused'))\n",
      "HTTPSConnectionPool(host='cdn1.hautetime.com', port=443): Max retries exceeded with url: /wp-content/uploads/2013/11/baume.jpg (Caused by NewConnectionError('<urllib3.connection.HTTPSConnection object at 0x7f97aa297220>: Failed to establish a new connection: [Errno 113] No route to host'))\n",
      "HTTPConnectionPool(host='blogs.reuters.com', port=80): Max retries exceeded with url: /great-debate/files/2014/06/dwise-benghazi-attack-nite-1024x640.jpg (Caused by NewConnectionError('<urllib3.connection.HTTPConnection object at 0x7f97c8064220>: Failed to establish a new connection: [Errno -5] No address associated with hostname'))\n",
      "HTTPConnectionPool(host='geekshumor.com', port=80): Max retries exceeded with url: /wp-content/uploads/2013/10/The-brain-of-the-geek.jpg (Caused by NewConnectionError('<urllib3.connection.HTTPConnection object at 0x7f97c8011d90>: Failed to establish a new connection: [Errno -5] No address associated with hostname'))\n",
      "HTTPSConnectionPool(host='www.emporis.com', port=443): Max retries exceeded with url: /images/show/592664-Large-exterior-from-across-memorial-drive-to-the-southwest.jpg (Caused by SSLError(SSLCertVerificationError(1, '[SSL: CERTIFICATE_VERIFY_FAILED] certificate verify failed: unable to get local issuer certificate (_ssl.c:1131)')))\n",
      "HTTPConnectionPool(host='flirtingwiththeglobe.com', port=80): Max retries exceeded with url: /wp-content/uploads/2016/04/IMG_5186.jpg (Caused by NewConnectionError('<urllib3.connection.HTTPConnection object at 0x7f97c806e220>: Failed to establish a new connection: [Errno -3] Temporary failure in name resolution'))\n",
      "HTTPSConnectionPool(host='s.iha.com', port=443): Max retries exceeded with url: /1157700001254/bb-Kalk-bay-Castle-Hill-Guesthouse_1.jpeg (Caused by NewConnectionError('<urllib3.connection.HTTPSConnection object at 0x7f97aaff07c0>: Failed to establish a new connection: [Errno 111] Connection refused'))\n",
      "HTTPSConnectionPool(host='z4u03a0h98qmyuk34iyrjwb-wpengine.netdna-ssl.com', port=443): Max retries exceeded with url: /wp-content/uploads/2016/11/castro_map.jpg (Caused by NewConnectionError('<urllib3.connection.HTTPSConnection object at 0x7f97aafabb20>: Failed to establish a new connection: [Errno -2] Name or service not known'))\n",
      "HTTPSConnectionPool(host='images1.houstonpress.com', port=443): Max retries exceeded with url: /imager/u/745xauto/9867794/img_4286.jpg (Caused by NewConnectionError('<urllib3.connection.HTTPSConnection object at 0x7f97c81b2f10>: Failed to establish a new connection: [Errno 110] Connection timed out'))\n",
      "HTTPConnectionPool(host='photos.mycapture.com', port=80): Max retries exceeded with url: /KENO/2098833/60679812E.jpg (Caused by NewConnectionError('<urllib3.connection.HTTPConnection object at 0x7f97c8206280>: Failed to establish a new connection: [Errno 110] Connection timed out'))\n",
      "HTTPSConnectionPool(host='www.solutionsinla.com', port=443): Max retries exceeded with url: /wp-content/uploads/sites/4660/2016/05/SLA-gallery-54-640x480_c.jpg (Caused by NewConnectionError('<urllib3.connection.HTTPSConnection object at 0x7f97c8220ac0>: Failed to establish a new connection: [Errno 110] Connection timed out'))\n",
      "HTTPSConnectionPool(host='www.emporis.com', port=443): Max retries exceeded with url: /images/show/435231-Large-fullheightview-view-from-the-northwest-along-22nd-street.jpg (Caused by SSLError(SSLCertVerificationError(1, '[SSL: CERTIFICATE_VERIFY_FAILED] certificate verify failed: unable to get local issuer certificate (_ssl.c:1131)')))\n",
      "HTTPSConnectionPool(host='www.acclaimimages.com', port=443): Max retries exceeded with url: /_gallery/_free_images/0420-0906-1715-5025_soldier_with_a_dog_m.jpg (Caused by SSLError(SSLCertVerificationError(1, '[SSL: CERTIFICATE_VERIFY_FAILED] certificate verify failed: certificate has expired (_ssl.c:1131)')))\n",
      "HTTPSConnectionPool(host='cdn4.img.sputniknews.com', port=443): Max retries exceeded with url: /images/102024/98/1020249870.jpg (Caused by NewConnectionError('<urllib3.connection.HTTPSConnection object at 0x7f97aaea8640>: Failed to establish a new connection: [Errno -2] Name or service not known'))\n",
      "HTTPSConnectionPool(host='cdn.alpineguru.com', port=443): Max retries exceeded with url: /wp-content/gallery/white-dream-courchevel/chalet-white-dream-courchevel-window-gym.jpg (Caused by NewConnectionError('<urllib3.connection.HTTPSConnection object at 0x7f97aae4ae20>: Failed to establish a new connection: [Errno -2] Name or service not known'))\n",
      "HTTPConnectionPool(host='www.dailystar.com.lb', port=80): Max retries exceeded with url: /dailystar/Pictures/2018/01/01/667035_img650x420_img650x420_crop.jpg (Caused by NewConnectionError('<urllib3.connection.HTTPConnection object at 0x7f97aaed09a0>: Failed to establish a new connection: [Errno 113] No route to host'))\n",
      "HTTPSConnectionPool(host='www.emporis.com', port=443): Max retries exceeded with url: /images/show/393274-Large-lookingup-view-from-the-east.jpg (Caused by SSLError(SSLCertVerificationError(1, '[SSL: CERTIFICATE_VERIFY_FAILED] certificate verify failed: unable to get local issuer certificate (_ssl.c:1131)')))\n",
      "HTTPSConnectionPool(host='www.emporis.com', port=443): Max retries exceeded with url: /images/show/751829-Large-fullheightview-view-from-the-northwest-along-8th-street.jpg (Caused by SSLError(SSLCertVerificationError(1, '[SSL: CERTIFICATE_VERIFY_FAILED] certificate verify failed: unable to get local issuer certificate (_ssl.c:1131)')))\n",
      "HTTPSConnectionPool(host='images.bwwstatic.com', port=443): Max retries exceeded with url: /upload11/1119750/tn-500_lostwm3020190244354.jpg (Caused by NewConnectionError('<urllib3.connection.HTTPSConnection object at 0x7f97aadd8a90>: Failed to establish a new connection: [Errno -2] Name or service not known'))\n",
      "HTTPSConnectionPool(host='www.cliveblair.co.uk', port=443): Max retries exceeded with url: /wp-content/uploads/2017/02/coombe-abbey-wedding-photography-66.jpg (Caused by SSLError(CertificateError(\"hostname 'www.cliveblair.co.uk' doesn't match either of 'cliveblair.co.uk', 'cliveblairphotography.co.uk'\")))\n",
      "('Connection aborted.', RemoteDisconnected('Remote end closed connection without response'))\n",
      "HTTPSConnectionPool(host='media1.britannica.com', port=443): Max retries exceeded with url: /eb-media/91/30391-004-306BD755.jpg (Caused by SSLError(SSLCertVerificationError(1, '[SSL: CERTIFICATE_VERIFY_FAILED] certificate verify failed: certificate has expired (_ssl.c:1131)')))\n",
      "HTTPSConnectionPool(host='cdn.lights.co.uk', port=443): Max retries exceeded with url: /image/small_image/464x/led-wall-light-melek-with-a-rust-coloured-finish-9620367-21.jpg (Caused by SSLError(SSLCertVerificationError(1, '[SSL: CERTIFICATE_VERIFY_FAILED] certificate verify failed: certificate has expired (_ssl.c:1131)')))\n",
      "HTTPSConnectionPool(host='media.winnipegfreepress.com', port=443): Max retries exceeded with url: /images/400*400/JS-Sistema(2)-May201.jpg (Caused by SSLError(SSLCertVerificationError(1, '[SSL: CERTIFICATE_VERIFY_FAILED] certificate verify failed: certificate has expired (_ssl.c:1131)')))\n",
      "HTTPConnectionPool(host='photos.mycapture.com', port=80): Max retries exceeded with url: /THST/1561986/44629273E.jpg (Caused by NewConnectionError('<urllib3.connection.HTTPConnection object at 0x7f97c80f0cd0>: Failed to establish a new connection: [Errno 110] Connection timed out'))HTTPConnectionPool(host='home.useif.com', port=80): Max retries exceeded with url: /wp-content/uploads/2015/04/small-dining-rooms-that-save-up-on-space7.jpg (Caused by NewConnectionError('<urllib3.connection.HTTPConnection object at 0x7f97c8108f10>: Failed to establish a new connection: [Errno 110] Connection timed out'))\n",
      "\n",
      "HTTPConnectionPool(host='www.freakingnews.com', port=80): Max retries exceeded with url: /pictures/26000/Bruce-Willis-with-a-Ribbon-in-his-Hair-26386.jpg (Caused by NewConnectionError('<urllib3.connection.HTTPConnection object at 0x7f97aad7d3d0>: Failed to establish a new connection: [Errno -3] Temporary failure in name resolution'))\n",
      "HTTPSConnectionPool(host='footballcitymediacenter.com', port=443): Max retries exceeded with url: /images/86/69/866944.jpg (Caused by NewConnectionError('<urllib3.connection.HTTPSConnection object at 0x7f97aad7da90>: Failed to establish a new connection: [Errno -2] Name or service not known'))\n",
      "HTTPSConnectionPool(host='www.fivesquid.com', port=443): Max retries exceeded with url: /pics/t2/1483093094-58653-1-1_236px.jpg (Caused by SSLError(SSLCertVerificationError(1, '[SSL: CERTIFICATE_VERIFY_FAILED] certificate verify failed: certificate has expired (_ssl.c:1131)')))\n",
      "HTTPSConnectionPool(host='drupal.dailygazette.com', port=443): Max retries exceeded with url: /sites/default/files/styles/gallery_image/public/media/img/photos/2014/11/04/nisky10prb.jpg?itok=PWq91ffC (Caused by NewConnectionError('<urllib3.connection.HTTPSConnection object at 0x7f97aad7d100>: Failed to establish a new connection: [Errno -2] Name or service not known'))\n",
      "HTTPConnectionPool(host='drterryshapiro.com', port=80): Max retries exceeded with url: /eugene/wp-content/uploads/2013/09/transformations-7.jpg (Caused by NewConnectionError('<urllib3.connection.HTTPConnection object at 0x7f97aad86970>: Failed to establish a new connection: [Errno -3] Temporary failure in name resolution'))\n",
      "HTTPConnectionPool(host='photos.mycapture.com', port=80): Max retries exceeded with url: /FRNP/2099394/60692816E.jpg (Caused by NewConnectionError('<urllib3.connection.HTTPConnection object at 0x7f97aafb07f0>: Failed to establish a new connection: [Errno 110] Connection timed out'))\n",
      "HTTPSConnectionPool(host='www.greenandgrowing.org', port=443): Max retries exceeded with url: /wp-content/uploads/2017/08/dog-and-cat.jpg (Caused by SSLError(SSLCertVerificationError(1, '[SSL: CERTIFICATE_VERIFY_FAILED] certificate verify failed: certificate has expired (_ssl.c:1131)')))\n",
      "HTTPConnectionPool(host='cdn.attackofthecute.com', port=80): Max retries exceeded with url: /November-16-2011-19-45-30-ea990f41797da596.jpg (Caused by NewConnectionError('<urllib3.connection.HTTPConnection object at 0x7f97aad25f10>: Failed to establish a new connection: [Errno 111] Connection refused'))\n",
      "HTTPSConnectionPool(host='blogs.brighthorizons.com', port=443): Max retries exceeded with url: /familyroom/wp-content/uploads/5.5.16-Flying-With-a-Baby-JetBlues-Mothers-Day-Ad-710x454.jpg?x53397 (Caused by NewConnectionError('<urllib3.connection.HTTPSConnection object at 0x7f97aad3c3d0>: Failed to establish a new connection: [Errno -2] Name or service not known'))\n",
      "HTTPSConnectionPool(host='www.astrobio.net', port=443): Max retries exceeded with url: /wp-content/uploads/2014/08/Venus-Jupiter_18Aug2014a.jpg (Caused by SSLError(SSLCertVerificationError(1, '[SSL: CERTIFICATE_VERIFY_FAILED] certificate verify failed: self-signed certificate (_ssl.c:1131)')))\n",
      "('Connection aborted.', RemoteDisconnected('Remote end closed connection without response'))\n",
      "HTTPConnectionPool(host='all-womens-dresses.com', port=80): Max retries exceeded with url: /wp-content/uploads/parser/how-to-dress-for-wedding-party-1.jpg (Caused by NewConnectionError('<urllib3.connection.HTTPConnection object at 0x7f97aad02760>: Failed to establish a new connection: [Errno -3] Temporary failure in name resolution'))\n",
      "HTTPSConnectionPool(host='1x2fx81ukj80cz7043sc901i-wpengine.netdna-ssl.com', port=443): Max retries exceeded with url: /wp-content/uploads/2017/10/shutterstock_552273967-768x512.jpg (Caused by NewConnectionError('<urllib3.connection.HTTPSConnection object at 0x7f97aace97c0>: Failed to establish a new connection: [Errno -2] Name or service not known'))\n",
      "HTTPSConnectionPool(host='www.emporis.com', port=443): Max retries exceeded with url: /images/show/125663-Large-exterior-view-to-the-northwest.jpg (Caused by SSLError(SSLCertVerificationError(1, '[SSL: CERTIFICATE_VERIFY_FAILED] certificate verify failed: unable to get local issuer certificate (_ssl.c:1131)')))\n",
      "HTTPConnectionPool(host='www.freakingnews.com', port=80): Max retries exceeded with url: /pictures/83500/Robert-Downey-Jr-as-a-Woman-with-a-Dog--83826.jpg (Caused by NewConnectionError('<urllib3.connection.HTTPConnection object at 0x7f97aacb29d0>: Failed to establish a new connection: [Errno -3] Temporary failure in name resolution'))\n",
      "HTTPSConnectionPool(host='www.easemytrip.com', port=443): Max retries exceeded with url: /travel/img/chail-grnd.jpg (Caused by SSLError(SSLCertVerificationError(1, '[SSL: CERTIFICATE_VERIFY_FAILED] certificate verify failed: unable to get local issuer certificate (_ssl.c:1131)')))\n",
      "HTTPConnectionPool(host='www.wildlifephotographytips.com', port=80): Max retries exceeded with url: /images/black-and-white-nature-photography-stag.jpg (Caused by NewConnectionError('<urllib3.connection.HTTPConnection object at 0x7f97aad0d970>: Failed to establish a new connection: [Errno -3] Temporary failure in name resolution'))\n",
      "HTTPConnectionPool(host='files.kitchenbowl.com', port=80): Max retries exceeded with url: /recipe/PbQFnxE2XM/step-16/mix-in-the-spinach-until-wilted-thumb.jpg (Caused by NewConnectionError('<urllib3.connection.HTTPConnection object at 0x7f97aac4e100>: Failed to establish a new connection: [Errno -2] Name or service not known'))\n",
      "HTTPSConnectionPool(host='media1.britannica.com', port=443): Max retries exceeded with url: /eb-media/55/110955-004-FDB6EFE0.jpg (Caused by SSLError(SSLCertVerificationError(1, '[SSL: CERTIFICATE_VERIFY_FAILED] certificate verify failed: certificate has expired (_ssl.c:1131)')))\n",
      "HTTPSConnectionPool(host='photos.travelblog.org', port=443): Max retries exceeded with url: /Photos/22612/101313/f/666332-Inside-Temple-of-the-Tooth-0.jpg (Caused by NewConnectionError('<urllib3.connection.HTTPSConnection object at 0x7f97aabc9610>: Failed to establish a new connection: [Errno -2] Name or service not known'))\n",
      "HTTPSConnectionPool(host='s.iha.com', port=443): Max retries exceeded with url: /4469800003754/bb-Tel-aviv-Gordoninn_3.jpeg (Caused by NewConnectionError('<urllib3.connection.HTTPSConnection object at 0x7f97aac03fa0>: Failed to establish a new connection: [Errno 111] Connection refused'))\n",
      "HTTPConnectionPool(host='2.design-milk.com', port=80): Max retries exceeded with url: /images/2014/03/Yalding-Kent-House-Modern-House-17-bed-600x417.jpg (Caused by NewConnectionError('<urllib3.connection.HTTPConnection object at 0x7f97aabda160>: Failed to establish a new connection: [Errno -2] Name or service not known'))\n",
      "HTTPSConnectionPool(host='www.isightcornwall.org.uk', port=443): Max retries exceeded with url: /wp-content/uploads/pexels-photo-large-1-e1474278153637.jpg (Caused by SSLError(SSLCertVerificationError(1, '[SSL: CERTIFICATE_VERIFY_FAILED] certificate verify failed: unable to get local issuer certificate (_ssl.c:1131)')))\n",
      "HTTPSConnectionPool(host='drupal.dailygazette.com', port=443): Max retries exceeded with url: /sites/default/files/styles/article_image/public/media/img/photos/2016/03/22/RPIlighting4.jpg?itok=_-pzxy0V (Caused by NewConnectionError('<urllib3.connection.HTTPSConnection object at 0x7f97aac09ee0>: Failed to establish a new connection: [Errno -2] Name or service not known'))\n",
      "HTTPConnectionPool(host='images.glaciermedia.ca', port=80): Max retries exceeded with url: /polopoly_fs/1.23101825.1511374186!/fileImage/httpImage/image.jpg_gen/derivatives/landscape_804/santa-claus-parade.jpg (Caused by NewConnectionError('<urllib3.connection.HTTPConnection object at 0x7f97aabfd820>: Failed to establish a new connection: [Errno -2] Name or service not known'))\n",
      "HTTPConnectionPool(host='www.freakingnews.com', port=80): Max retries exceeded with url: /pictures/57000/Sheryl-Crowe-as-a-Man--57336.jpg (Caused by NewConnectionError('<urllib3.connection.HTTPConnection object at 0x7f97aab95310>: Failed to establish a new connection: [Errno -3] Temporary failure in name resolution'))\n",
      "HTTPConnectionPool(host='cdn.sci-news.com', port=80): Max retries exceeded with url: /images/enlarge2/image_3756_1e-Miocene-Snake.jpg (Caused by NewConnectionError('<urllib3.connection.HTTPConnection object at 0x7f97aab4fee0>: Failed to establish a new connection: [Errno -2] Name or service not known'))\n",
      "HTTPConnectionPool(host='www.celebzz.com', port=80): Max retries exceeded with url: /wp-content/uploads/2017/08/heidi-klum-has-a-fun-in-the-caribbean-sun-of-st-barth_6.jpg (Caused by NewConnectionError('<urllib3.connection.HTTPConnection object at 0x7f97aab53430>: Failed to establish a new connection: [Errno -3] Temporary failure in name resolution'))\n",
      "Exceeded 30 redirects.\n",
      "Exceeded 30 redirects.\n",
      "HTTPConnectionPool(host='thaumaturgical.com', port=80): Max retries exceeded with url: /wp-content/uploads/2015/01/034028d5-aaca-4185-9760-b74de7c9cc1b-1020x681-610x407.jpeg (Caused by NewConnectionError('<urllib3.connection.HTTPConnection object at 0x7f97aab02dc0>: Failed to establish a new connection: [Errno -3] Temporary failure in name resolution'))\n",
      "HTTPConnectionPool(host='gigionthescene.com', port=80): Max retries exceeded with url: /wp-content/uploads/2016/07/Levi-Bridge-2-1024x814.jpg (Caused by NewConnectionError('<urllib3.connection.HTTPConnection object at 0x7f97aab30f70>: Failed to establish a new connection: [Errno -3] Temporary failure in name resolution'))\n",
      "HTTPSConnectionPool(host='www.emporis.com', port=443): Max retries exceeded with url: /images/show/400142-Large-fullheightview-looking-north-from-the-adjacent-parking-lot.jpg (Caused by SSLError(SSLCertVerificationError(1, '[SSL: CERTIFICATE_VERIFY_FAILED] certificate verify failed: unable to get local issuer certificate (_ssl.c:1131)')))\n",
      "HTTPSConnectionPool(host='s.iha.com', port=443): Max retries exceeded with url: /6650900007036/bb-Managua-Acomoda_7.jpeg (Caused by NewConnectionError('<urllib3.connection.HTTPSConnection object at 0x7f97aaaea3d0>: Failed to establish a new connection: [Errno 111] Connection refused'))\n",
      "HTTPConnectionPool(host='313ct818yszd3xd6xa2z47nm-wpengine.netdna-ssl.com', port=80): Max retries exceeded with url: /wp-content/uploads/2010/06/zhaoyi_kingfisher.jpg (Caused by NewConnectionError('<urllib3.connection.HTTPConnection object at 0x7f97aaa597f0>: Failed to establish a new connection: [Errno -2] Name or service not known'))\n",
      "HTTPConnectionPool(host='www.freakingnews.com', port=80): Max retries exceeded with url: /pictures/58500/Michael-Jackson-Glove-in-the-Sky--58785.jpg (Caused by NewConnectionError('<urllib3.connection.HTTPConnection object at 0x7f97aaa59be0>: Failed to establish a new connection: [Errno -3] Temporary failure in name resolution'))\n"
     ]
    }
   ],
   "source": [
    "with ThreadPoolExecutor(max_workers=10) as executor:\n",
    "    list(executor.map(download_single_image, subset['image_url'], range(len(subset['image_url']))))#, range(len(subset['image_url'])))"
   ]
  },
  {
   "cell_type": "code",
   "execution_count": 5,
   "metadata": {},
   "outputs": [],
   "source": [
    "# Load CLIP model\n",
    "device = \"cuda\" if torch.cuda.is_available() else \"cpu\"\n",
    "model, preprocess = clip.load(\"ViT-B/32\", device=device)"
   ]
  },
  {
   "cell_type": "code",
   "execution_count": 6,
   "metadata": {},
   "outputs": [],
   "source": [
    "# Helper function to get CLIP features of an image\n",
    "def get_image_features(image_path):\n",
    "    image = preprocess(Image.open(image_path)).unsqueeze(0).to(device)\n",
    "    with torch.no_grad():\n",
    "        image_features = model.encode_image(image)\n",
    "    return image_features.cpu().numpy()"
   ]
  },
  {
   "cell_type": "code",
   "execution_count": 7,
   "metadata": {},
   "outputs": [],
   "source": [
    "# Helper function to get CLIP features of text\n",
    "def get_text_features(text):\n",
    "    text = clip.tokenize(text).to(device)\n",
    "    with torch.no_grad():\n",
    "        text_features = model.encode_text(text)\n",
    "    return text_features.cpu().numpy()"
   ]
  },
  {
   "cell_type": "code",
   "execution_count": 61,
   "metadata": {},
   "outputs": [
    {
     "data": {
      "text/plain": [
       "tensor([[-0.3389,  0.1622,  0.1849,  ...,  0.3142, -0.2822, -0.1782],\n",
       "        [-0.1791,  0.4587,  0.0641,  ...,  0.6108, -0.2385, -0.2062],\n",
       "        [-0.1298,  0.4797, -0.1777,  ...,  0.3574,  0.0505,  0.1039],\n",
       "        ...,\n",
       "        [ 0.1338,  0.4475, -0.2644,  ...,  0.4087, -0.5146,  0.1832],\n",
       "        [ 0.1134, -0.0311,  0.4126,  ...,  0.2025, -0.3774, -0.6797],\n",
       "        [ 0.2874, -0.5991, -0.0970,  ...,  0.9458, -0.2844, -0.1941]])"
      ]
     },
     "execution_count": 61,
     "metadata": {},
     "output_type": "execute_result"
    }
   ],
   "source": [
    "torch.from_numpy(downloaded_dset['image_features'].astype('float32'))"
   ]
  },
  {
   "cell_type": "code",
   "execution_count": 62,
   "metadata": {},
   "outputs": [],
   "source": [
    "# Gets similarity\n",
    "def get_cosine_similarity(image_features, text_features):\n",
    "    norm_image_features = torch.from_numpy(image_features.astype('float32'))\n",
    "    norm_text_features = torch.from_numpy(text_features.astype('float32'))\n",
    "    # normalize\n",
    "    norm_image_features = norm_image_features / np.expand_dims(np.linalg.norm(image_features, axis=-1),1)\n",
    "    norm_text_features = norm_text_features / np.expand_dims(np.linalg.norm(text_features, axis=-1),1)\n",
    "    #similarity = (100.0 * image_features @ text_features.T).softmax(dim=-1)\n",
    "    return (100.0 * norm_image_features @ norm_text_features.T)"
   ]
  },
  {
   "cell_type": "code",
   "execution_count": 8,
   "metadata": {},
   "outputs": [],
   "source": [
    "def get_order(index, query):\n",
    "    nbrs = neighbors.NearestNeighbors(n_neighbors=index.shape[0]).fit(index)\n",
    "    distances, indices = nbrs.kneighbors(query)\n",
    "    return indices[:,1:] # assumes first element is the same as query"
   ]
  },
  {
   "cell_type": "code",
   "execution_count": 9,
   "metadata": {},
   "outputs": [
    {
     "data": {
      "text/plain": [
       "6948"
      ]
     },
     "execution_count": 9,
     "metadata": {},
     "output_type": "execute_result"
    }
   ],
   "source": [
    "downloaded_files = glob(os.path.join(DOWNLOAD_DIR, '*'))\n",
    "len(downloaded_files)"
   ]
  },
  {
   "cell_type": "code",
   "execution_count": 10,
   "metadata": {},
   "outputs": [],
   "source": [
    "downloaded_dset = {'image_url': [], 'image_path': [], 'caption': [], 'labels': [],'confidence_scores' : []}\n",
    "for filename in downloaded_files:\n",
    "    ind = int(os.path.splitext(os.path.basename(filename))[0])\n",
    "    for k in downloaded_dset:\n",
    "        if k != 'image_path':\n",
    "            downloaded_dset[k].append(subset[k][ind])\n",
    "    downloaded_dset['image_path'].append(filename)"
   ]
  },
  {
   "cell_type": "code",
   "execution_count": 42,
   "metadata": {},
   "outputs": [
    {
     "name": "stderr",
     "output_type": "stream",
     "text": [
      "100%|██████████| 6948/6948 [02:43<00:00, 42.52it/s]\n"
     ]
    }
   ],
   "source": [
    "# get image features\n",
    "features = []\n",
    "for f in tqdm(downloaded_dset['image_path']):\n",
    "    features.append(get_image_features(f))\n",
    "downloaded_dset['image_features'] = np.array(features).squeeze()"
   ]
  },
  {
   "cell_type": "code",
   "execution_count": 43,
   "metadata": {},
   "outputs": [
    {
     "name": "stderr",
     "output_type": "stream",
     "text": [
      "100%|██████████| 6948/6948 [01:11<00:00, 97.09it/s]\n"
     ]
    }
   ],
   "source": [
    "# get text features\n",
    "text_features = []\n",
    "for c in tqdm(downloaded_dset['caption']):\n",
    "    text_features.append(get_text_features(c))\n",
    "downloaded_dset['text_features'] = np.array(text_features).squeeze()"
   ]
  },
  {
   "cell_type": "code",
   "execution_count": 13,
   "metadata": {},
   "outputs": [],
   "source": [
    "# split dataset into query and index set\n",
    "num_to_query = 100\n",
    "query_inds = np.random.randint(0, len(downloaded_files), num_to_query)"
   ]
  },
  {
   "cell_type": "code",
   "execution_count": 14,
   "metadata": {},
   "outputs": [
    {
     "data": {
      "text/plain": [
       "(100, 6947)"
      ]
     },
     "execution_count": 14,
     "metadata": {},
     "output_type": "execute_result"
    }
   ],
   "source": [
    "# get image feature ranking\n",
    "image_ranking = get_order(downloaded_dset['image_features'],downloaded_dset['image_features'][query_inds] )\n",
    "image_ranking.shape"
   ]
  },
  {
   "cell_type": "code",
   "execution_count": 15,
   "metadata": {},
   "outputs": [
    {
     "data": {
      "text/plain": [
       "(100, 6947)"
      ]
     },
     "execution_count": 15,
     "metadata": {},
     "output_type": "execute_result"
    }
   ],
   "source": [
    "# get text feature ranking\n",
    "text_ranking = get_order(downloaded_dset['text_features'],downloaded_dset['text_features'][query_inds] )\n",
    "text_ranking.shape"
   ]
  },
  {
   "cell_type": "code",
   "execution_count": 16,
   "metadata": {},
   "outputs": [
    {
     "name": "stderr",
     "output_type": "stream",
     "text": [
      "100%|██████████| 100/100 [00:00<00:00, 174.93it/s]\n"
     ]
    }
   ],
   "source": [
    "# do evaluation with rank biased overlap\n",
    "from rbo_code import rbo\n",
    "rbos = []\n",
    "cutoff = 100\n",
    "for i in tqdm(range(len(text_ranking))):\n",
    "    rbos.append( rbo(image_ranking[i][:cutoff], text_ranking[i][:cutoff], p=0.9).min)\n",
    "rbos = np.array(rbos)"
   ]
  },
  {
   "cell_type": "code",
   "execution_count": 17,
   "metadata": {},
   "outputs": [
    {
     "data": {
      "text/plain": [
       "(0.0, 0.09100514201600252, 0.4208914740827287)"
      ]
     },
     "execution_count": 17,
     "metadata": {},
     "output_type": "execute_result"
    }
   ],
   "source": [
    "np.min(rbos), np.mean(rbos), np.max(rbos)"
   ]
  },
  {
   "cell_type": "code",
   "execution_count": 82,
   "metadata": {},
   "outputs": [
    {
     "data": {
      "text/plain": [
       "0.2"
      ]
     },
     "execution_count": 82,
     "metadata": {},
     "output_type": "execute_result"
    }
   ],
   "source": [
    "# simpler to interpet : how often do, in the first K results, they share the same result\n",
    "def share_result(rankingA, rankingB, K=3):\n",
    "    share_k = 0\n",
    "    for i in range(len(rankingA)):\n",
    "        a_rank = rankingA[i][:K]\n",
    "        b_rank = rankingB[i][:K]\n",
    "        if len(np.intersect1d(a_rank, b_rank)) > 0:\n",
    "            share_k += 1\n",
    "    return share_k / len(rankingA)\n",
    "share_result(image_ranking, text_ranking)"
   ]
  },
  {
   "cell_type": "code",
   "execution_count": 63,
   "metadata": {},
   "outputs": [],
   "source": [
    "cosine_similarity = get_cosine_similarity(downloaded_dset['image_features'], downloaded_dset['text_features'])"
   ]
  },
  {
   "cell_type": "code",
   "execution_count": 78,
   "metadata": {},
   "outputs": [],
   "source": [
    "similarity_ranking = cosine_similarity.numpy().argsort(axis=-1)"
   ]
  },
  {
   "cell_type": "code",
   "execution_count": 79,
   "metadata": {},
   "outputs": [
    {
     "name": "stderr",
     "output_type": "stream",
     "text": [
      "100%|██████████| 100/100 [00:00<00:00, 177.09it/s]\n"
     ]
    },
    {
     "data": {
      "text/plain": [
       "(0.0, 0.0010945623003236892, 0.03292587008470111)"
      ]
     },
     "execution_count": 79,
     "metadata": {},
     "output_type": "execute_result"
    }
   ],
   "source": [
    "similarity_to_image_rbos = []\n",
    "cutoff = 100\n",
    "for i in tqdm(range(len(text_ranking))):\n",
    "    similarity_to_image_rbos.append( rbo(image_ranking[i][:cutoff], similarity_ranking[i][:cutoff], p=0.9).min)\n",
    "similarity_to_image_rbos = np.array(similarity_to_image_rbos)\n",
    "np.min(similarity_to_image_rbos), np.mean(similarity_to_image_rbos), np.max(similarity_to_image_rbos)"
   ]
  },
  {
   "cell_type": "code",
   "execution_count": 80,
   "metadata": {},
   "outputs": [
    {
     "name": "stderr",
     "output_type": "stream",
     "text": [
      "100%|██████████| 100/100 [00:00<00:00, 176.29it/s]\n"
     ]
    },
    {
     "data": {
      "text/plain": [
       "(0.0, 0.0015039955457385337, 0.05324187847561122)"
      ]
     },
     "execution_count": 80,
     "metadata": {},
     "output_type": "execute_result"
    }
   ],
   "source": [
    "similarity_to_txt_rbos = []\n",
    "cutoff = 100\n",
    "for i in tqdm(range(len(text_ranking))):\n",
    "    similarity_to_txt_rbos.append( rbo(text_ranking[i][:cutoff], similarity_ranking[i][:cutoff], p=0.9).min)\n",
    "similarity_to_txt_rbos = np.array(similarity_to_txt_rbos)\n",
    "np.min(similarity_to_txt_rbos), np.mean(similarity_to_txt_rbos), np.max(similarity_to_txt_rbos)"
   ]
  },
  {
   "cell_type": "code",
   "execution_count": 92,
   "metadata": {},
   "outputs": [
    {
     "data": {
      "text/plain": [
       "0.0"
      ]
     },
     "execution_count": 92,
     "metadata": {},
     "output_type": "execute_result"
    }
   ],
   "source": [
    "share_result(image_ranking, similarity_ranking, K=10)"
   ]
  },
  {
   "cell_type": "code",
   "execution_count": 93,
   "metadata": {},
   "outputs": [
    {
     "data": {
      "text/plain": [
       "0.03"
      ]
     },
     "execution_count": 93,
     "metadata": {},
     "output_type": "execute_result"
    }
   ],
   "source": [
    "share_result(text_ranking, similarity_ranking, K=10)"
   ]
  },
  {
   "cell_type": "code",
   "execution_count": null,
   "metadata": {},
   "outputs": [],
   "source": []
  }
 ],
 "metadata": {
  "kernelspec": {
   "display_name": "content_understanding",
   "language": "python",
   "name": "python3"
  },
  "language_info": {
   "codemirror_mode": {
    "name": "ipython",
    "version": 3
   },
   "file_extension": ".py",
   "mimetype": "text/x-python",
   "name": "python",
   "nbconvert_exporter": "python",
   "pygments_lexer": "ipython3",
   "version": "3.8.15"
  },
  "orig_nbformat": 4,
  "vscode": {
   "interpreter": {
    "hash": "6d36b139402f0f8909133622e5e80cdd43397350f551386f6df555aa508ab69d"
   }
  }
 },
 "nbformat": 4,
 "nbformat_minor": 2
}
